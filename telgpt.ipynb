{
 "cells": [
  {
   "cell_type": "code",
   "execution_count": 21,
   "id": "3b3706ac-6ff2-4424-a531-f38132a67b10",
   "metadata": {},
   "outputs": [],
   "source": [
    "import os\n",
    "from dotenv import load_dotenv\n",
    "from telegram import Update\n",
    "from telegram.ext import ApplicationBuilder, CommandHandler, MessageHandler, ContextTypes, filters\n",
    "import openai"
   ]
  },
  {
   "cell_type": "code",
   "execution_count": 22,
   "id": "ede76457-6326-4898-bab2-3f205c1acfd5",
   "metadata": {},
   "outputs": [],
   "source": [
    "load_dotenv()\n",
    "TELEGRAM_TOKEN = os.getenv(\"TELEGRAM_BOT_TOKEN\")\n",
    "openai.api_key = os.getenv(\"OPENAI_API_KEY\")"
   ]
  },
  {
   "cell_type": "code",
   "execution_count": 23,
   "id": "1503792a-3b05-4226-8e73-973d5e5e278b",
   "metadata": {},
   "outputs": [],
   "source": [
    "load_dotenv()\n",
    "TELEGRAM_TOKEN = os.getenv(\"TELEGRAM_BOT_TOKEN\")\n",
    "DOCS_DIR = os.getenv(\"DOCS_DIR\", \"./documents\")"
   ]
  },
  {
   "cell_type": "code",
   "execution_count": 24,
   "id": "2ec76222",
   "metadata": {},
   "outputs": [
    {
     "data": {
      "text/plain": [
       "'/Users/mahdihanifi/Documents/GitHub/Telgram-GPT/Documents_to_test'"
      ]
     },
     "execution_count": 24,
     "metadata": {},
     "output_type": "execute_result"
    }
   ],
   "source": [
    "DOCS_DIR"
   ]
  },
  {
   "cell_type": "code",
   "execution_count": 20,
   "id": "730de271",
   "metadata": {},
   "outputs": [
    {
     "name": "stdout",
     "output_type": "stream",
     "text": [
      "README.md           gpt_telegram_bot.py telgpt.ipynb\n",
      "\u001b[34mdocuments\u001b[m\u001b[m           requirements.yml    telgram_agent.py\n"
     ]
    }
   ],
   "source": [
    "!LS"
   ]
  },
  {
   "cell_type": "code",
   "execution_count": null,
   "id": "dea251e3",
   "metadata": {},
   "outputs": [],
   "source": []
  }
 ],
 "metadata": {
  "kernelspec": {
   "display_name": "telgpt_env",
   "language": "python",
   "name": "python3"
  },
  "language_info": {
   "codemirror_mode": {
    "name": "ipython",
    "version": 3
   },
   "file_extension": ".py",
   "mimetype": "text/x-python",
   "name": "python",
   "nbconvert_exporter": "python",
   "pygments_lexer": "ipython3",
   "version": "3.11.13"
  }
 },
 "nbformat": 4,
 "nbformat_minor": 5
}
